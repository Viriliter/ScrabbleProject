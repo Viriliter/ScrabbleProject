{
 "cells": [
  {
   "cell_type": "code",
   "execution_count": null,
   "metadata": {},
   "outputs": [],
   "source": [
    "import pandas as pd\n",
    "import plotly.express as px\n",
    "import plotly.graph_objects as go\n",
    "\n",
    "# Load simulation data from CSV\n",
    "df = pd.read_csv(\"scrabble_strategy_data.csv\")\n",
    "\n",
    "strategy_map = {\n",
    "    \"Plato\": \"GREEDY\",\n",
    "    \"Pythagoras\": \"GREEDY\",\n",
    "    \"Aristotle\": \"BALANCED\",\n",
    "    \"Socrates\": \"BALANCED\"\n",
    "}\n",
    "df['Strategy'] = df['Player'].map(strategy_map)\n",
    "\n",
    "# Calculate earned score per move\n",
    "df['Earned'] = df.groupby(['Game', 'Player'])['Score'].diff().fillna(0)\n",
    "\n",
    "# Draw Plot line chart for each game\n",
    "unique_games = df['Game'].unique()\n",
    "for game_id in unique_games:\n",
    "    game_data = df[df['Game'] == game_id].copy()\n",
    "    game_data['Label'] = game_data['Player'] + \" (\" + game_data['Strategy'] + \")\"\n",
    "\n",
    "    # Determine winner for this game\n",
    "    last_turn = game_data['Turn'].max()\n",
    "    final_scores = game_data[game_data['Turn'] == last_turn]\n",
    "    winner_row = final_scores.loc[final_scores['Score'].idxmax()]\n",
    "    winner_strategy = winner_row['Strategy']\n",
    "    winner_name = winner_row['Player']\n",
    "\n",
    "    # Plot\n",
    "    fig = px.line(\n",
    "        game_data,\n",
    "        x='Turn',\n",
    "        y='Earned',\n",
    "        color='Label',\n",
    "        title=f\"Game {game_id} - Earned Score per Turn (Winner: {winner_name}, Strategy: {winner_strategy})\",\n",
    "        markers=True\n",
    "    )\n",
    "    fig.show()\n",
    "\n",
    "# Draw bar chart for total earned score per strategy bar chart\n",
    "total_earned = df.groupby('Strategy')['Earned'].sum().reset_index()\n",
    "\n",
    "fig = px.bar(\n",
    "    total_earned,\n",
    "    x='Strategy',\n",
    "    y='Earned',\n",
    "    color='Strategy',\n",
    "    color_discrete_map={'GREEDY': 'red', 'BALANCED': 'blue'},\n",
    "    title=\"Total Earned Score by Strategy Across All Games\"\n",
    ")\n",
    "fig.update_layout(xaxis_title='Strategy', yaxis_title='Total Earned Score')\n",
    "fig.show()\n"
   ]
  }
 ],
 "metadata": {
  "kernelspec": {
   "display_name": "Python 3",
   "language": "python",
   "name": "python3"
  },
  "language_info": {
   "codemirror_mode": {
    "name": "ipython",
    "version": 3
   },
   "file_extension": ".py",
   "mimetype": "text/x-python",
   "name": "python",
   "nbconvert_exporter": "python",
   "pygments_lexer": "ipython3",
   "version": "3.10.12"
  }
 },
 "nbformat": 4,
 "nbformat_minor": 2
}
